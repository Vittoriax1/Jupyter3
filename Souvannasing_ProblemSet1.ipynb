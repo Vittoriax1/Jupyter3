{
 "cells": [
  {
   "cell_type": "markdown",
   "metadata": {},
   "source": [
    "# Problem Set 1: Basic Python Programming\n",
    "\n",
    "#### Jennifer Souvannasing\n",
    "\n",
    "### Instructions:\n",
    "\n",
    "* Questions are given as Markdowns cells. Your responses will be in Python code. Whenever you see `YOUR CODE HERE`, write your Python code below that line.\n",
    "* Feel free to use additional **code cells** as you wish. \n",
    "* Be sure to run your Jupyter Notebook and save your outputs. \n",
    "* Make sure the final version of your Jupyter Notebook is error-free, clean and neat before Canvas submission."
   ]
  },
  {
   "cell_type": "markdown",
   "metadata": {},
   "source": [
    "## Question 1 (5 points)\n",
    "\n",
    "Write an if-else statement where if the variable named `number` equals 1000, then print out the string `'one thousand'`. Otherwise print out  `'not one thousand'`.\n",
    "\n",
    "You are allowed to answer this question using either scripting or function."
   ]
  },
  {
   "cell_type": "code",
   "execution_count": 1,
   "metadata": {},
   "outputs": [
    {
     "name": "stdout",
     "output_type": "stream",
     "text": [
      "not one thousand\n"
     ]
    }
   ],
   "source": [
    "number = 0.99  #DO NOT EDIT THIS LINE!\n",
    "\n",
    "# My code follows\n",
    "if number == 1000:\n",
    "    print('one thousand')\n",
    "else:\n",
    "    print('not one thousand')            "
   ]
  },
  {
   "cell_type": "markdown",
   "metadata": {},
   "source": [
    "## Question 2 (10 points)\n",
    "\n",
    "Given the list\n",
    "\n",
    "```python\n",
    "student_names = [\"Gary\", \"Carol\", \"Ellen\", \"Albert\", \"Felipe\", \"Becky\", \"Donna\"]\n",
    "```\n",
    "\n",
    "write Python code to output the list such that the final output says \"hello\" to each student in **alphabetical order**\n",
    "\n",
    "```\n",
    "Hello Albert, Becky, ..., Felipe, Gary\n",
    "```"
   ]
  },
  {
   "cell_type": "code",
   "execution_count": 2,
   "metadata": {},
   "outputs": [
    {
     "name": "stdout",
     "output_type": "stream",
     "text": [
      "Hello Albert, Becky, Carol, Donna, Ellen, Felipe, Gary\n"
     ]
    }
   ],
   "source": [
    "student_names = [\"Gary\", \"Carol\", \"Ellen\", \"Albert\", \"Felipe\", \"Becky\", \"Donna\"] #DO NOT EDIT THIS LINE!\n",
    "\n",
    "# My code follows\n",
    "student_names.sort() # Performing the sort\n",
    "\n",
    "greeting = \"Hello \" # Creating the greeting\n",
    "\n",
    "print(greeting + ', '.join(student_names)) # Printing the sorted list"
   ]
  },
  {
   "cell_type": "markdown",
   "metadata": {},
   "source": [
    "## Question 3 (15 points)\n",
    "\n",
    "Python Dictionaries are **key-value pairs**. Given a python dictionary:\n",
    "\n",
    "```python\n",
    "populations = {'Shanghai': 17.8, 'Istanbul': 13.3, 'Karachi': 13.0, 'Mumbai': 12.5}\n",
    "```\n",
    "\n",
    "write code such that the console prints out \n",
    "\n",
    "```\n",
    "The population of CITY is NUMBER.\n",
    "```\n",
    "\n",
    "where _CITY_ is a key (e.g. \"Shanghai\") and _NUMBER_ is the city's population."
   ]
  },
  {
   "cell_type": "code",
   "execution_count": 3,
   "metadata": {},
   "outputs": [
    {
     "name": "stdout",
     "output_type": "stream",
     "text": [
      "The population of Shanghai is 17.8.\n",
      "The population of Istanbul is 13.3.\n",
      "The population of Karachi is 13.0.\n",
      "The population of Mumbai is 12.5.\n"
     ]
    }
   ],
   "source": [
    "populations = {'Shanghai': 17.8, 'Istanbul': 13.3, 'Karachi': 13.0, 'Mumbai': 12.5} #DO NOT EDIT\n",
    "\n",
    "# My code follows\n",
    "for city, population in populations.items():\n",
    "    print(f'The population of {city} is {population}.')"
   ]
  },
  {
   "cell_type": "markdown",
   "metadata": {},
   "source": [
    "## Question 4 (20 points)\n",
    "\n",
    "In Lesson 4.20 of Udacity's _Introduction to Python Programming_ , you were given an example of a `while` loop that increments from `5` to `100`:\n",
    "\n",
    "```python\n",
    "start_num = 5\n",
    "end_num = 100\n",
    "count_by = 2\n",
    "\n",
    "break_num = start_num\n",
    "while break_num < end_num:\n",
    "    break_num += count_by\n",
    "\n",
    "print(break_num) #should be 101\n",
    "```\n",
    "\n",
    "Here, please convert this code logic into a **Python Function**, which takes `start_num, end_num, count_by` as parameters and returns `break_num`. The signature of the function is: \n",
    "\n",
    "```python\n",
    "def my_function(start_num, end_num, count_by):\n",
    "    # YOUR CODE HERE\n",
    "    # ...\n",
    "    return break_num\n",
    "```"
   ]
  },
  {
   "cell_type": "code",
   "execution_count": 4,
   "metadata": {},
   "outputs": [],
   "source": [
    "def my_function(start_num, end_num, count_by): \n",
    "    # YOUR CODE HERE\n",
    "    break_num = start_num\n",
    "    while break_num < end_num:\n",
    "        break_num += count_by\n",
    "    return break_num"
   ]
  },
  {
   "cell_type": "code",
   "execution_count": 5,
   "metadata": {},
   "outputs": [
    {
     "name": "stdout",
     "output_type": "stream",
     "text": [
      "101\n"
     ]
    }
   ],
   "source": [
    "## After writing the function, test your code to see if you get 101\n",
    "result = my_function(5, 100, 2)\n",
    "print(result)"
   ]
  },
  {
   "cell_type": "code",
   "execution_count": 6,
   "metadata": {},
   "outputs": [
    {
     "name": "stdout",
     "output_type": "stream",
     "text": [
      "201\n"
     ]
    }
   ],
   "source": [
    "## Try another test case to see if you get expected answer, 201\n",
    "result = my_function(105, 200, 2)\n",
    "print(result)"
   ]
  },
  {
   "cell_type": "markdown",
   "metadata": {},
   "source": [
    "## Question 5 (15 points)\n",
    "\n",
    "Use **List Comprehension** to create a list of **last names** of students who did _not_ receive a score of 65:\n",
    "\n",
    "```python\n",
    "grades = {\"Rick Sanchez\": 70, \"Morty Smith\": 35, \"Summer Smith\": 82,\n",
    "          \"Jerry Smith\": 23, \"Beth Smith\": 98}\n",
    "```\n",
    "\n",
    "For this question only, your solution must be only **one-line long**."
   ]
  },
  {
   "cell_type": "code",
   "execution_count": 7,
   "metadata": {},
   "outputs": [
    {
     "name": "stdout",
     "output_type": "stream",
     "text": [
      "['Sanchez', 'Smith', 'Smith', 'Smith', 'Smith']\n"
     ]
    }
   ],
   "source": [
    "grades = {\"Rick Sanchez\": 70, \"Morty Smith\": 35, \"Summer Smith\": 82,\n",
    "          \"Jerry Smith\": 23, \"Beth Smith\": 98} #DO NOT EDIT\n",
    "\n",
    "# My code follows\n",
    "print([name.split()[-1] for name, score in grades.items() if score != 65])"
   ]
  },
  {
   "cell_type": "markdown",
   "metadata": {},
   "source": [
    "I chose to find the last names of the students who did not receive a score of exactly 65.<br>\n",
    "I did it this way because the sentence states '...of students who did <i>not</i> receive a score of 65.<br>\n",
    "I took the sentence as very literal."
   ]
  },
  {
   "cell_type": "markdown",
   "metadata": {},
   "source": [
    "## Submission\n",
    "\n",
    "* Be sure to run all of your code chunks, save your code output, and submit the .ipynb file on Canvas.\n",
    "* Make sure your final notebook is clean, neat, and free of error. This is a criterion that is worth additional 5 points."
   ]
  }
 ],
 "metadata": {
  "kernelspec": {
   "display_name": "Python 3 (ipykernel)",
   "language": "python",
   "name": "python3"
  },
  "language_info": {
   "codemirror_mode": {
    "name": "ipython",
    "version": 3
   },
   "file_extension": ".py",
   "mimetype": "text/x-python",
   "name": "python",
   "nbconvert_exporter": "python",
   "pygments_lexer": "ipython3",
   "version": "3.9.13"
  }
 },
 "nbformat": 4,
 "nbformat_minor": 4
}
